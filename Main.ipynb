{
 "cells": [
  {
   "cell_type": "code",
   "execution_count": 2,
   "id": "baa9797e-235b-4cf7-9e84-cdd5a17f155e",
   "metadata": {},
   "outputs": [],
   "source": [
    "#importing dependancies\n",
    "import pandas as pd"
   ]
  },
  {
   "cell_type": "code",
   "execution_count": null,
   "id": "135f6e7c-0d47-4881-bc4a-566377d2005a",
   "metadata": {},
   "outputs": [
    {
     "name": "stdout",
     "output_type": "stream",
     "text": [
      "Object `pd.read` not found.\n"
     ]
    }
   ],
   "source": [
    "#declaring file path\n",
    "file1 = \"HeroesOfPymoli\""
   ]
  },
  {
   "cell_type": "code",
   "execution_count": null,
   "id": "7b733a80-4b4d-4164-9c11-eb1a1ba5a19e",
   "metadata": {},
   "outputs": [],
   "source": []
  }
 ],
 "metadata": {
  "kernelspec": {
   "display_name": "Python 3 (ipykernel)",
   "language": "python",
   "name": "python3"
  },
  "language_info": {
   "codemirror_mode": {
    "name": "ipython",
    "version": 3
   },
   "file_extension": ".py",
   "mimetype": "text/x-python",
   "name": "python",
   "nbconvert_exporter": "python",
   "pygments_lexer": "ipython3",
   "version": "3.9.7"
  }
 },
 "nbformat": 4,
 "nbformat_minor": 5
}
